{
 "cells": [
  {
   "cell_type": "code",
   "execution_count": 1,
   "id": "431531ae-fa59-4d59-8012-b2a3a6a7c9dc",
   "metadata": {},
   "outputs": [],
   "source": [
    "import pandas as pd\n",
    "import numpy as np\n",
    "import matplotlib.pyplot as plt"
   ]
  },
  {
   "cell_type": "markdown",
   "id": "b0e608db-bdf5-40e7-bd04-0a0eccbd29b4",
   "metadata": {},
   "source": [
    "Load the dataset"
   ]
  },
  {
   "cell_type": "code",
   "execution_count": 2,
   "id": "e14ad3d0-0522-4c91-98e8-9dd08b03ce39",
   "metadata": {},
   "outputs": [],
   "source": [
    "sevens = pd.read_csv('ROADWAY_PHILADELPHIA_2007.csv')"
   ]
  },
  {
   "cell_type": "markdown",
   "id": "98c7a37e-0169-430c-96df-d7ca7b9ed940",
   "metadata": {},
   "source": [
    "Check the columns, if useful or not"
   ]
  },
  {
   "cell_type": "code",
   "execution_count": 3,
   "id": "b1dbf29b-3581-44fa-9fbc-7ea0ab5c9302",
   "metadata": {},
   "outputs": [
    {
     "data": {
      "text/html": [
       "<div>\n",
       "<style scoped>\n",
       "    .dataframe tbody tr th:only-of-type {\n",
       "        vertical-align: middle;\n",
       "    }\n",
       "\n",
       "    .dataframe tbody tr th {\n",
       "        vertical-align: top;\n",
       "    }\n",
       "\n",
       "    .dataframe thead th {\n",
       "        text-align: right;\n",
       "    }\n",
       "</style>\n",
       "<table border=\"1\" class=\"dataframe\">\n",
       "  <thead>\n",
       "    <tr style=\"text-align: right;\">\n",
       "      <th></th>\n",
       "      <th>CRN</th>\n",
       "      <th>ACCESS_CTRL</th>\n",
       "      <th>ADJ_RDWY_SEQ</th>\n",
       "      <th>LANE_COUNT</th>\n",
       "      <th>OFFSET</th>\n",
       "      <th>RDWY_COUNTY</th>\n",
       "      <th>RDWY_ORIENT</th>\n",
       "      <th>RDWY_SEQ_NUM</th>\n",
       "      <th>ROAD_OWNER</th>\n",
       "      <th>ROUTE</th>\n",
       "      <th>SEGMENT</th>\n",
       "      <th>SPEED_LIMIT</th>\n",
       "      <th>STREET_NAME</th>\n",
       "    </tr>\n",
       "  </thead>\n",
       "  <tbody>\n",
       "    <tr>\n",
       "      <th>0</th>\n",
       "      <td>2007057367</td>\n",
       "      <td>3.0</td>\n",
       "      <td>4</td>\n",
       "      <td>2.0</td>\n",
       "      <td>594.0</td>\n",
       "      <td>67</td>\n",
       "      <td>E</td>\n",
       "      <td>4</td>\n",
       "      <td>2</td>\n",
       "      <td>4017</td>\n",
       "      <td>60.0</td>\n",
       "      <td>25.0</td>\n",
       "      <td>UPSAL ST</td>\n",
       "    </tr>\n",
       "    <tr>\n",
       "      <th>1</th>\n",
       "      <td>2007099457</td>\n",
       "      <td>NaN</td>\n",
       "      <td>4</td>\n",
       "      <td>4.0</td>\n",
       "      <td>NaN</td>\n",
       "      <td>67</td>\n",
       "      <td>N</td>\n",
       "      <td>3</td>\n",
       "      <td>4</td>\n",
       "      <td>NaN</td>\n",
       "      <td>NaN</td>\n",
       "      <td>35.0</td>\n",
       "      <td>BELMONT AV</td>\n",
       "    </tr>\n",
       "    <tr>\n",
       "      <th>2</th>\n",
       "      <td>2007082503</td>\n",
       "      <td>3.0</td>\n",
       "      <td>3</td>\n",
       "      <td>2.0</td>\n",
       "      <td>2422.0</td>\n",
       "      <td>67</td>\n",
       "      <td>E</td>\n",
       "      <td>3</td>\n",
       "      <td>2</td>\n",
       "      <td>0030</td>\n",
       "      <td>40.0</td>\n",
       "      <td>30.0</td>\n",
       "      <td>LANCASTER AV</td>\n",
       "    </tr>\n",
       "    <tr>\n",
       "      <th>3</th>\n",
       "      <td>2007066317</td>\n",
       "      <td>NaN</td>\n",
       "      <td>3</td>\n",
       "      <td>1.0</td>\n",
       "      <td>NaN</td>\n",
       "      <td>67</td>\n",
       "      <td>S</td>\n",
       "      <td>3</td>\n",
       "      <td>4</td>\n",
       "      <td>NaN</td>\n",
       "      <td>NaN</td>\n",
       "      <td>25.0</td>\n",
       "      <td>MITCHELL ST</td>\n",
       "    </tr>\n",
       "    <tr>\n",
       "      <th>4</th>\n",
       "      <td>2007107773</td>\n",
       "      <td>NaN</td>\n",
       "      <td>5</td>\n",
       "      <td>4.0</td>\n",
       "      <td>NaN</td>\n",
       "      <td>67</td>\n",
       "      <td>N</td>\n",
       "      <td>5</td>\n",
       "      <td>4</td>\n",
       "      <td>NaN</td>\n",
       "      <td>NaN</td>\n",
       "      <td>25.0</td>\n",
       "      <td>TWENTIETH ST</td>\n",
       "    </tr>\n",
       "  </tbody>\n",
       "</table>\n",
       "</div>"
      ],
      "text/plain": [
       "          CRN  ACCESS_CTRL  ADJ_RDWY_SEQ  LANE_COUNT  OFFSET  RDWY_COUNTY  \\\n",
       "0  2007057367          3.0             4         2.0   594.0           67   \n",
       "1  2007099457          NaN             4         4.0     NaN           67   \n",
       "2  2007082503          3.0             3         2.0  2422.0           67   \n",
       "3  2007066317          NaN             3         1.0     NaN           67   \n",
       "4  2007107773          NaN             5         4.0     NaN           67   \n",
       "\n",
       "  RDWY_ORIENT  RDWY_SEQ_NUM  ROAD_OWNER ROUTE  SEGMENT  SPEED_LIMIT  \\\n",
       "0           E             4           2  4017     60.0         25.0   \n",
       "1           N             3           4   NaN      NaN         35.0   \n",
       "2           E             3           2  0030     40.0         30.0   \n",
       "3           S             3           4   NaN      NaN         25.0   \n",
       "4           N             5           4   NaN      NaN         25.0   \n",
       "\n",
       "    STREET_NAME  \n",
       "0      UPSAL ST  \n",
       "1    BELMONT AV  \n",
       "2  LANCASTER AV  \n",
       "3   MITCHELL ST  \n",
       "4  TWENTIETH ST  "
      ]
     },
     "execution_count": 3,
     "metadata": {},
     "output_type": "execute_result"
    }
   ],
   "source": [
    "sevens.head()"
   ]
  },
  {
   "cell_type": "markdown",
   "id": "c102bc92-437f-42a4-9198-85814ea3c7f8",
   "metadata": {},
   "source": [
    "Get rid of unwanted columns"
   ]
  },
  {
   "cell_type": "code",
   "execution_count": 4,
   "id": "e685c0e6-46a8-4053-99c8-c22cc324bc9f",
   "metadata": {},
   "outputs": [],
   "source": [
    "delcolsevens = sevens.drop(columns=['ACCESS_CTRL', 'ADJ_RDWY_SEQ', 'LANE_COUNT', 'OFFSET', 'RDWY_COUNTY', 'RDWY_ORIENT', 'ROAD_OWNER', 'ROUTE', 'SEGMENT'])"
   ]
  },
  {
   "cell_type": "markdown",
   "id": "28b7bb14-62dd-49d6-8ba3-a8ee79d14e84",
   "metadata": {},
   "source": [
    "Check if the columns were deleted"
   ]
  },
  {
   "cell_type": "code",
   "execution_count": 5,
   "id": "11ca062d-3099-4fc2-9610-04c9604b770d",
   "metadata": {},
   "outputs": [
    {
     "data": {
      "text/html": [
       "<div>\n",
       "<style scoped>\n",
       "    .dataframe tbody tr th:only-of-type {\n",
       "        vertical-align: middle;\n",
       "    }\n",
       "\n",
       "    .dataframe tbody tr th {\n",
       "        vertical-align: top;\n",
       "    }\n",
       "\n",
       "    .dataframe thead th {\n",
       "        text-align: right;\n",
       "    }\n",
       "</style>\n",
       "<table border=\"1\" class=\"dataframe\">\n",
       "  <thead>\n",
       "    <tr style=\"text-align: right;\">\n",
       "      <th></th>\n",
       "      <th>CRN</th>\n",
       "      <th>RDWY_SEQ_NUM</th>\n",
       "      <th>SPEED_LIMIT</th>\n",
       "      <th>STREET_NAME</th>\n",
       "    </tr>\n",
       "  </thead>\n",
       "  <tbody>\n",
       "    <tr>\n",
       "      <th>0</th>\n",
       "      <td>2007057367</td>\n",
       "      <td>4</td>\n",
       "      <td>25.0</td>\n",
       "      <td>UPSAL ST</td>\n",
       "    </tr>\n",
       "    <tr>\n",
       "      <th>1</th>\n",
       "      <td>2007099457</td>\n",
       "      <td>3</td>\n",
       "      <td>35.0</td>\n",
       "      <td>BELMONT AV</td>\n",
       "    </tr>\n",
       "    <tr>\n",
       "      <th>2</th>\n",
       "      <td>2007082503</td>\n",
       "      <td>3</td>\n",
       "      <td>30.0</td>\n",
       "      <td>LANCASTER AV</td>\n",
       "    </tr>\n",
       "    <tr>\n",
       "      <th>3</th>\n",
       "      <td>2007066317</td>\n",
       "      <td>3</td>\n",
       "      <td>25.0</td>\n",
       "      <td>MITCHELL ST</td>\n",
       "    </tr>\n",
       "    <tr>\n",
       "      <th>4</th>\n",
       "      <td>2007107773</td>\n",
       "      <td>5</td>\n",
       "      <td>25.0</td>\n",
       "      <td>TWENTIETH ST</td>\n",
       "    </tr>\n",
       "  </tbody>\n",
       "</table>\n",
       "</div>"
      ],
      "text/plain": [
       "          CRN  RDWY_SEQ_NUM  SPEED_LIMIT   STREET_NAME\n",
       "0  2007057367             4         25.0      UPSAL ST\n",
       "1  2007099457             3         35.0    BELMONT AV\n",
       "2  2007082503             3         30.0  LANCASTER AV\n",
       "3  2007066317             3         25.0   MITCHELL ST\n",
       "4  2007107773             5         25.0  TWENTIETH ST"
      ]
     },
     "execution_count": 5,
     "metadata": {},
     "output_type": "execute_result"
    }
   ],
   "source": [
    "delcolsevens.head()"
   ]
  },
  {
   "cell_type": "code",
   "execution_count": null,
   "id": "24be4f62-3640-45ed-bb20-f45504efe2b4",
   "metadata": {},
   "outputs": [],
   "source": []
  }
 ],
 "metadata": {
  "kernelspec": {
   "display_name": "Python 3 (ipykernel)",
   "language": "python",
   "name": "python3"
  },
  "language_info": {
   "codemirror_mode": {
    "name": "ipython",
    "version": 3
   },
   "file_extension": ".py",
   "mimetype": "text/x-python",
   "name": "python",
   "nbconvert_exporter": "python",
   "pygments_lexer": "ipython3",
   "version": "3.11.7"
  }
 },
 "nbformat": 4,
 "nbformat_minor": 5
}
