{
 "cells": [
  {
   "cell_type": "code",
   "execution_count": 1,
   "id": "431531ae-fa59-4d59-8012-b2a3a6a7c9dc",
   "metadata": {},
   "outputs": [],
   "source": [
    "import pandas as pd\n",
    "import numpy as np\n",
    "import matplotlib.pyplot as plt"
   ]
  },
  {
   "cell_type": "markdown",
   "id": "b0e608db-bdf5-40e7-bd04-0a0eccbd29b4",
   "metadata": {},
   "source": [
    "Load the dataset"
   ]
  },
  {
   "cell_type": "code",
   "execution_count": 2,
   "id": "e14ad3d0-0522-4c91-98e8-9dd08b03ce39",
   "metadata": {},
   "outputs": [],
   "source": [
    "sixes = pd.read_csv('ROADWAY_PHILADELPHIA_2006.csv')"
   ]
  },
  {
   "cell_type": "markdown",
   "id": "98c7a37e-0169-430c-96df-d7ca7b9ed940",
   "metadata": {},
   "source": [
    "Check the columns, if useful or not"
   ]
  },
  {
   "cell_type": "code",
   "execution_count": 3,
   "id": "b1dbf29b-3581-44fa-9fbc-7ea0ab5c9302",
   "metadata": {},
   "outputs": [
    {
     "data": {
      "text/html": [
       "<div>\n",
       "<style scoped>\n",
       "    .dataframe tbody tr th:only-of-type {\n",
       "        vertical-align: middle;\n",
       "    }\n",
       "\n",
       "    .dataframe tbody tr th {\n",
       "        vertical-align: top;\n",
       "    }\n",
       "\n",
       "    .dataframe thead th {\n",
       "        text-align: right;\n",
       "    }\n",
       "</style>\n",
       "<table border=\"1\" class=\"dataframe\">\n",
       "  <thead>\n",
       "    <tr style=\"text-align: right;\">\n",
       "      <th></th>\n",
       "      <th>CRN</th>\n",
       "      <th>ACCESS_CTRL</th>\n",
       "      <th>ADJ_RDWY_SEQ</th>\n",
       "      <th>LANE_COUNT</th>\n",
       "      <th>OFFSET</th>\n",
       "      <th>RDWY_COUNTY</th>\n",
       "      <th>RDWY_ORIENT</th>\n",
       "      <th>RDWY_SEQ_NUM</th>\n",
       "      <th>ROAD_OWNER</th>\n",
       "      <th>ROUTE</th>\n",
       "      <th>SEGMENT</th>\n",
       "      <th>SPEED_LIMIT</th>\n",
       "      <th>STREET_NAME</th>\n",
       "    </tr>\n",
       "  </thead>\n",
       "  <tbody>\n",
       "    <tr>\n",
       "      <th>0</th>\n",
       "      <td>2006062399</td>\n",
       "      <td>3.0</td>\n",
       "      <td>4</td>\n",
       "      <td>2</td>\n",
       "      <td>1602.0</td>\n",
       "      <td>67</td>\n",
       "      <td>E</td>\n",
       "      <td>4</td>\n",
       "      <td>2</td>\n",
       "      <td>1016</td>\n",
       "      <td>60.0</td>\n",
       "      <td>35.0</td>\n",
       "      <td>LINDEN AV</td>\n",
       "    </tr>\n",
       "    <tr>\n",
       "      <th>1</th>\n",
       "      <td>2006055305</td>\n",
       "      <td>NaN</td>\n",
       "      <td>4</td>\n",
       "      <td>1</td>\n",
       "      <td>502.0</td>\n",
       "      <td>67</td>\n",
       "      <td>U</td>\n",
       "      <td>3</td>\n",
       "      <td>2</td>\n",
       "      <td>8012</td>\n",
       "      <td>20.0</td>\n",
       "      <td>35.0</td>\n",
       "      <td>NaN</td>\n",
       "    </tr>\n",
       "    <tr>\n",
       "      <th>2</th>\n",
       "      <td>2006034194</td>\n",
       "      <td>3.0</td>\n",
       "      <td>5</td>\n",
       "      <td>2</td>\n",
       "      <td>0.0</td>\n",
       "      <td>67</td>\n",
       "      <td>NaN</td>\n",
       "      <td>5</td>\n",
       "      <td>2</td>\n",
       "      <td>4007</td>\n",
       "      <td>10.0</td>\n",
       "      <td>25.0</td>\n",
       "      <td>CLARISSA ST</td>\n",
       "    </tr>\n",
       "    <tr>\n",
       "      <th>3</th>\n",
       "      <td>2006079948</td>\n",
       "      <td>3.0</td>\n",
       "      <td>3</td>\n",
       "      <td>2</td>\n",
       "      <td>2250.0</td>\n",
       "      <td>67</td>\n",
       "      <td>N</td>\n",
       "      <td>3</td>\n",
       "      <td>2</td>\n",
       "      <td>1005</td>\n",
       "      <td>130.0</td>\n",
       "      <td>25.0</td>\n",
       "      <td>CASTOR AV</td>\n",
       "    </tr>\n",
       "    <tr>\n",
       "      <th>4</th>\n",
       "      <td>2006094184</td>\n",
       "      <td>3.0</td>\n",
       "      <td>4</td>\n",
       "      <td>2</td>\n",
       "      <td>0.0</td>\n",
       "      <td>67</td>\n",
       "      <td>W</td>\n",
       "      <td>4</td>\n",
       "      <td>2</td>\n",
       "      <td>2014</td>\n",
       "      <td>51.0</td>\n",
       "      <td>25.0</td>\n",
       "      <td>LEHIGH AV</td>\n",
       "    </tr>\n",
       "  </tbody>\n",
       "</table>\n",
       "</div>"
      ],
      "text/plain": [
       "          CRN  ACCESS_CTRL  ADJ_RDWY_SEQ  LANE_COUNT  OFFSET  RDWY_COUNTY  \\\n",
       "0  2006062399          3.0             4           2  1602.0           67   \n",
       "1  2006055305          NaN             4           1   502.0           67   \n",
       "2  2006034194          3.0             5           2     0.0           67   \n",
       "3  2006079948          3.0             3           2  2250.0           67   \n",
       "4  2006094184          3.0             4           2     0.0           67   \n",
       "\n",
       "  RDWY_ORIENT  RDWY_SEQ_NUM  ROAD_OWNER ROUTE  SEGMENT  SPEED_LIMIT  \\\n",
       "0           E             4           2  1016     60.0         35.0   \n",
       "1           U             3           2  8012     20.0         35.0   \n",
       "2         NaN             5           2  4007     10.0         25.0   \n",
       "3           N             3           2  1005    130.0         25.0   \n",
       "4           W             4           2  2014     51.0         25.0   \n",
       "\n",
       "   STREET_NAME  \n",
       "0    LINDEN AV  \n",
       "1          NaN  \n",
       "2  CLARISSA ST  \n",
       "3    CASTOR AV  \n",
       "4    LEHIGH AV  "
      ]
     },
     "execution_count": 3,
     "metadata": {},
     "output_type": "execute_result"
    }
   ],
   "source": [
    "sixes.head()"
   ]
  },
  {
   "cell_type": "markdown",
   "id": "c102bc92-437f-42a4-9198-85814ea3c7f8",
   "metadata": {},
   "source": [
    "Get rid of unwanted columns"
   ]
  },
  {
   "cell_type": "code",
   "execution_count": 4,
   "id": "e685c0e6-46a8-4053-99c8-c22cc324bc9f",
   "metadata": {},
   "outputs": [],
   "source": [
    "delcolsixes = sixes.drop(columns=['ACCESS_CTRL', 'ADJ_RDWY_SEQ', 'LANE_COUNT', 'OFFSET', 'RDWY_COUNTY', 'RDWY_ORIENT', 'ROAD_OWNER', 'ROUTE', 'SEGMENT'])"
   ]
  },
  {
   "cell_type": "markdown",
   "id": "28b7bb14-62dd-49d6-8ba3-a8ee79d14e84",
   "metadata": {},
   "source": [
    "Check if the columns were deleted"
   ]
  },
  {
   "cell_type": "code",
   "execution_count": 5,
   "id": "11ca062d-3099-4fc2-9610-04c9604b770d",
   "metadata": {},
   "outputs": [
    {
     "data": {
      "text/html": [
       "<div>\n",
       "<style scoped>\n",
       "    .dataframe tbody tr th:only-of-type {\n",
       "        vertical-align: middle;\n",
       "    }\n",
       "\n",
       "    .dataframe tbody tr th {\n",
       "        vertical-align: top;\n",
       "    }\n",
       "\n",
       "    .dataframe thead th {\n",
       "        text-align: right;\n",
       "    }\n",
       "</style>\n",
       "<table border=\"1\" class=\"dataframe\">\n",
       "  <thead>\n",
       "    <tr style=\"text-align: right;\">\n",
       "      <th></th>\n",
       "      <th>CRN</th>\n",
       "      <th>RDWY_SEQ_NUM</th>\n",
       "      <th>SPEED_LIMIT</th>\n",
       "      <th>STREET_NAME</th>\n",
       "    </tr>\n",
       "  </thead>\n",
       "  <tbody>\n",
       "    <tr>\n",
       "      <th>0</th>\n",
       "      <td>2006062399</td>\n",
       "      <td>4</td>\n",
       "      <td>35.0</td>\n",
       "      <td>LINDEN AV</td>\n",
       "    </tr>\n",
       "    <tr>\n",
       "      <th>1</th>\n",
       "      <td>2006055305</td>\n",
       "      <td>3</td>\n",
       "      <td>35.0</td>\n",
       "      <td>NaN</td>\n",
       "    </tr>\n",
       "    <tr>\n",
       "      <th>2</th>\n",
       "      <td>2006034194</td>\n",
       "      <td>5</td>\n",
       "      <td>25.0</td>\n",
       "      <td>CLARISSA ST</td>\n",
       "    </tr>\n",
       "    <tr>\n",
       "      <th>3</th>\n",
       "      <td>2006079948</td>\n",
       "      <td>3</td>\n",
       "      <td>25.0</td>\n",
       "      <td>CASTOR AV</td>\n",
       "    </tr>\n",
       "    <tr>\n",
       "      <th>4</th>\n",
       "      <td>2006094184</td>\n",
       "      <td>4</td>\n",
       "      <td>25.0</td>\n",
       "      <td>LEHIGH AV</td>\n",
       "    </tr>\n",
       "  </tbody>\n",
       "</table>\n",
       "</div>"
      ],
      "text/plain": [
       "          CRN  RDWY_SEQ_NUM  SPEED_LIMIT  STREET_NAME\n",
       "0  2006062399             4         35.0    LINDEN AV\n",
       "1  2006055305             3         35.0          NaN\n",
       "2  2006034194             5         25.0  CLARISSA ST\n",
       "3  2006079948             3         25.0    CASTOR AV\n",
       "4  2006094184             4         25.0    LEHIGH AV"
      ]
     },
     "execution_count": 5,
     "metadata": {},
     "output_type": "execute_result"
    }
   ],
   "source": [
    "delcolsixes.head()"
   ]
  },
  {
   "cell_type": "code",
   "execution_count": null,
   "id": "24be4f62-3640-45ed-bb20-f45504efe2b4",
   "metadata": {},
   "outputs": [],
   "source": []
  }
 ],
 "metadata": {
  "kernelspec": {
   "display_name": "Python 3 (ipykernel)",
   "language": "python",
   "name": "python3"
  },
  "language_info": {
   "codemirror_mode": {
    "name": "ipython",
    "version": 3
   },
   "file_extension": ".py",
   "mimetype": "text/x-python",
   "name": "python",
   "nbconvert_exporter": "python",
   "pygments_lexer": "ipython3",
   "version": "3.11.7"
  }
 },
 "nbformat": 4,
 "nbformat_minor": 5
}
